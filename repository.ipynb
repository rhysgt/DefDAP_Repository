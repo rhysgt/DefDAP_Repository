{
 "cells": [
  {
   "cell_type": "code",
   "execution_count": 2,
   "id": "1ddf8f56-af52-4e62-8e96-377a9e948053",
   "metadata": {},
   "outputs": [],
   "source": [
    "# you will need defdap, pyyaml, pooch, ipywidgets installed\n",
    "from defdap import hrdic, ebsd, experiment\n",
    "import numpy as np\n",
    "import matplotlib.pyplot as plt\n",
    "from repo import repository\n",
    "\n",
    "%matplotlib inline"
   ]
  },
  {
   "cell_type": "markdown",
   "id": "a87752fd-8270-4352-ae76-39ac82297d35",
   "metadata": {},
   "source": [
    "# List all the projects in the yml folder"
   ]
  },
  {
   "cell_type": "markdown",
   "id": "529c1107-bd78-4595-8e54-44aad5601202",
   "metadata": {},
   "source": [
    "The yaml files contain the zenodo doi so that the data can be downloaded. It also includes the files names of the dic and ebsd maps, homologous points etc."
   ]
  },
  {
   "cell_type": "code",
   "execution_count": null,
   "id": "162dadb5-6ed6-40cf-9e25-93dc27488511",
   "metadata": {},
   "outputs": [],
   "source": [
    "repository.printYamls(folder = 'yaml')"
   ]
  },
  {
   "cell_type": "markdown",
   "id": "7f973375-194e-49cf-9f5c-8c796c908ace",
   "metadata": {},
   "source": [
    "# Select a yaml file"
   ]
  },
  {
   "cell_type": "code",
   "execution_count": null,
   "id": "b9ad23be-f6e1-43fb-bf29-2ba00646dd03",
   "metadata": {},
   "outputs": [],
   "source": [
    "yaml_file = 'yaml/thomas_zr4_hydrides.yml'\n",
    "key = 'td_irr'\n",
    "\n",
    "exp = repository.loadData(yaml_file, key)"
   ]
  },
  {
   "cell_type": "markdown",
   "id": "66fe355c-c8e7-4df2-9198-b323a72907b5",
   "metadata": {},
   "source": [
    "# Plot the maps"
   ]
  },
  {
   "cell_type": "code",
   "execution_count": null,
   "id": "cd3d6b3d-3418-486d-92b9-74eeaf50e566",
   "metadata": {},
   "outputs": [],
   "source": [
    "fig, ax = plt.subplots(1,len(exp.increments), figsize=(20,5))\n",
    "ax=ax.ravel()\n",
    "\n",
    "for inc, dic_map in exp.iter_over_maps('hrdic'):\n",
    "    plot=dic_map.plot_map(\n",
    "        'max_shear', vmin=0, vmax=0.10, \n",
    "        plot_scale_bar=False, plot_gbs='pixel', dilate_boundaries = True, fig=fig, ax=ax[inc]\n",
    "    )\n",
    "    ax[inc].set_title('Increment {0}'.format(inc))\n",
    "    plt.tight_layout()"
   ]
  },
  {
   "cell_type": "code",
   "execution_count": null,
   "id": "95a0d017-7eaf-4b34-b8b9-4de4b3890358",
   "metadata": {},
   "outputs": [],
   "source": []
  }
 ],
 "metadata": {
  "kernelspec": {
   "display_name": "Python 3 (ipykernel)",
   "language": "python",
   "name": "python3"
  },
  "language_info": {
   "codemirror_mode": {
    "name": "ipython",
    "version": 3
   },
   "file_extension": ".py",
   "mimetype": "text/x-python",
   "name": "python",
   "nbconvert_exporter": "python",
   "pygments_lexer": "ipython3",
   "version": "3.12.2"
  }
 },
 "nbformat": 4,
 "nbformat_minor": 5
}
